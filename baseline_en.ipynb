{
 "cells": [
  {
   "cell_type": "code",
   "execution_count": 1,
   "metadata": {},
   "outputs": [],
   "source": [
    "import matplotlib.pyplot as plt\n",
    "import numpy as np\n",
    "import pandas as pd\n",
    "import seaborn as sns"
   ]
  },
  {
   "cell_type": "code",
   "execution_count": 2,
   "metadata": {},
   "outputs": [
    {
     "data": {
      "text/html": [
       "<div>\n",
       "<style scoped>\n",
       "    .dataframe tbody tr th:only-of-type {\n",
       "        vertical-align: middle;\n",
       "    }\n",
       "\n",
       "    .dataframe tbody tr th {\n",
       "        vertical-align: top;\n",
       "    }\n",
       "\n",
       "    .dataframe thead th {\n",
       "        text-align: right;\n",
       "    }\n",
       "</style>\n",
       "<table border=\"1\" class=\"dataframe\">\n",
       "  <thead>\n",
       "    <tr style=\"text-align: right;\">\n",
       "      <th></th>\n",
       "      <th>URL</th>\n",
       "      <th>news_title</th>\n",
       "      <th>news_content</th>\n",
       "      <th>impact_type</th>\n",
       "    </tr>\n",
       "  </thead>\n",
       "  <tbody>\n",
       "    <tr>\n",
       "      <th>0</th>\n",
       "      <td>https://www.esgtoday.com/arabesque-ai-appoints...</td>\n",
       "      <td>Arabesque AI Appoints Carolina Minio Paluello ...</td>\n",
       "      <td>ESG-focused financial technology company Arabe...</td>\n",
       "      <td>Opportunity</td>\n",
       "    </tr>\n",
       "    <tr>\n",
       "      <th>1</th>\n",
       "      <td>https://www.esgtoday.com/arabesque-ai-appoints...</td>\n",
       "      <td>Arabesque AI Appoints Carolina Minio Paluello ...</td>\n",
       "      <td>The company also announced the appointment of ...</td>\n",
       "      <td>Opportunity</td>\n",
       "    </tr>\n",
       "    <tr>\n",
       "      <th>2</th>\n",
       "      <td>https://www.esgtoday.com/arabesque-ai-appoints...</td>\n",
       "      <td>Arabesque AI Appoints Carolina Minio Paluello ...</td>\n",
       "      <td>Wong said:  \\n“Personalised portfolios demand ...</td>\n",
       "      <td>Opportunity</td>\n",
       "    </tr>\n",
       "    <tr>\n",
       "      <th>3</th>\n",
       "      <td>https://www.esgtoday.com/ukraine-war-inflation...</td>\n",
       "      <td>Ukraine War, Inflation Reduction Act Driving F...</td>\n",
       "      <td>One of the key themes of the report is the imp...</td>\n",
       "      <td>Opportunity</td>\n",
       "    </tr>\n",
       "    <tr>\n",
       "      <th>4</th>\n",
       "      <td>https://www.esgtoday.com/eu-regulators-welcome...</td>\n",
       "      <td>EU Regulators Welcome, Critique New European S...</td>\n",
       "      <td>Europe’s three primary financial regulatory ag...</td>\n",
       "      <td>Opportunity</td>\n",
       "    </tr>\n",
       "  </tbody>\n",
       "</table>\n",
       "</div>"
      ],
      "text/plain": [
       "                                                 URL  \\\n",
       "0  https://www.esgtoday.com/arabesque-ai-appoints...   \n",
       "1  https://www.esgtoday.com/arabesque-ai-appoints...   \n",
       "2  https://www.esgtoday.com/arabesque-ai-appoints...   \n",
       "3  https://www.esgtoday.com/ukraine-war-inflation...   \n",
       "4  https://www.esgtoday.com/eu-regulators-welcome...   \n",
       "\n",
       "                                          news_title  \\\n",
       "0  Arabesque AI Appoints Carolina Minio Paluello ...   \n",
       "1  Arabesque AI Appoints Carolina Minio Paluello ...   \n",
       "2  Arabesque AI Appoints Carolina Minio Paluello ...   \n",
       "3  Ukraine War, Inflation Reduction Act Driving F...   \n",
       "4  EU Regulators Welcome, Critique New European S...   \n",
       "\n",
       "                                        news_content  impact_type  \n",
       "0  ESG-focused financial technology company Arabe...  Opportunity  \n",
       "1  The company also announced the appointment of ...  Opportunity  \n",
       "2  Wong said:  \\n“Personalised portfolios demand ...  Opportunity  \n",
       "3  One of the key themes of the report is the imp...  Opportunity  \n",
       "4  Europe’s three primary financial regulatory ag...  Opportunity  "
      ]
     },
     "execution_count": 2,
     "metadata": {},
     "output_type": "execute_result"
    }
   ],
   "source": [
    "df = pd.read_json('ML-ESG-2_English_Train.json')\n",
    "df.head()"
   ]
  },
  {
   "cell_type": "code",
   "execution_count": 3,
   "metadata": {},
   "outputs": [],
   "source": [
    "from newspaper import Article\n",
    "\n",
    "def get_article_text(url):\n",
    "    article = Article(url)\n",
    "    article.download()\n",
    "    article.parse()\n",
    "    return article.text"
   ]
  },
  {
   "cell_type": "code",
   "execution_count": 4,
   "metadata": {},
   "outputs": [],
   "source": [
    "# texts = df['URL'].apply(get_article_text)"
   ]
  },
  {
   "cell_type": "code",
   "execution_count": 5,
   "metadata": {},
   "outputs": [],
   "source": [
    "from sklearn.model_selection import cross_validate\n",
    "from sklearn.feature_extraction.text import TfidfVectorizer\n",
    "from sklearn.linear_model import LogisticRegression\n",
    "from sklearn.pipeline import make_pipeline\n",
    "\n",
    "scores = []\n",
    "X = df['news_content']\n",
    "y = df['impact_type'].map({'Opportunity': 0, 'Risk': 1}).values\n",
    "for c in np.arange(2, 7):\n",
    "    mdl = make_pipeline(\n",
    "        TfidfVectorizer(max_features=1000, stop_words='english'),\n",
    "        LogisticRegression(C=10**c)\n",
    "    )\n",
    "\n",
    "    scores.append(\n",
    "        cross_validate(mdl, X, y, cv=5, n_jobs=5, scoring=['precision', 'recall', 'f1'])\n",
    "    )"
   ]
  },
  {
   "cell_type": "code",
   "execution_count": 6,
   "metadata": {},
   "outputs": [],
   "source": [
    "scores = pd.DataFrame(scores)\n",
    "scores['precision'] = scores['test_precision'].apply(np.mean)\n",
    "scores['recall'] = scores['test_recall'].apply(np.mean)\n",
    "scores['f1'] = scores['test_f1'].apply(np.mean)"
   ]
  },
  {
   "cell_type": "code",
   "execution_count": 7,
   "metadata": {},
   "outputs": [
    {
     "data": {
      "text/html": [
       "<div>\n",
       "<style scoped>\n",
       "    .dataframe tbody tr th:only-of-type {\n",
       "        vertical-align: middle;\n",
       "    }\n",
       "\n",
       "    .dataframe tbody tr th {\n",
       "        vertical-align: top;\n",
       "    }\n",
       "\n",
       "    .dataframe thead th {\n",
       "        text-align: right;\n",
       "    }\n",
       "</style>\n",
       "<table border=\"1\" class=\"dataframe\">\n",
       "  <thead>\n",
       "    <tr style=\"text-align: right;\">\n",
       "      <th></th>\n",
       "      <th>precision</th>\n",
       "      <th>recall</th>\n",
       "      <th>f1</th>\n",
       "      <th>c</th>\n",
       "    </tr>\n",
       "  </thead>\n",
       "  <tbody>\n",
       "    <tr>\n",
       "      <th>0</th>\n",
       "      <td>0.619102</td>\n",
       "      <td>0.324901</td>\n",
       "      <td>0.420030</td>\n",
       "      <td>2</td>\n",
       "    </tr>\n",
       "    <tr>\n",
       "      <th>1</th>\n",
       "      <td>0.575238</td>\n",
       "      <td>0.350988</td>\n",
       "      <td>0.432651</td>\n",
       "      <td>3</td>\n",
       "    </tr>\n",
       "    <tr>\n",
       "      <th>2</th>\n",
       "      <td>0.578808</td>\n",
       "      <td>0.368775</td>\n",
       "      <td>0.446323</td>\n",
       "      <td>4</td>\n",
       "    </tr>\n",
       "    <tr>\n",
       "      <th>3</th>\n",
       "      <td>0.559760</td>\n",
       "      <td>0.368775</td>\n",
       "      <td>0.441381</td>\n",
       "      <td>5</td>\n",
       "    </tr>\n",
       "    <tr>\n",
       "      <th>4</th>\n",
       "      <td>0.575934</td>\n",
       "      <td>0.368775</td>\n",
       "      <td>0.446446</td>\n",
       "      <td>6</td>\n",
       "    </tr>\n",
       "  </tbody>\n",
       "</table>\n",
       "</div>"
      ],
      "text/plain": [
       "   precision    recall        f1  c\n",
       "0   0.619102  0.324901  0.420030  2\n",
       "1   0.575238  0.350988  0.432651  3\n",
       "2   0.578808  0.368775  0.446323  4\n",
       "3   0.559760  0.368775  0.441381  5\n",
       "4   0.575934  0.368775  0.446446  6"
      ]
     },
     "execution_count": 7,
     "metadata": {},
     "output_type": "execute_result"
    }
   ],
   "source": [
    "scores[['precision', 'recall', 'f1']].assign(c=np.arange(2, 7))"
   ]
  },
  {
   "cell_type": "markdown",
   "metadata": {},
   "source": [
    "# ChatGPT"
   ]
  },
  {
   "cell_type": "code",
   "execution_count": 14,
   "metadata": {},
   "outputs": [],
   "source": [
    "import openai\n",
    "import os\n",
    "\n",
    "openai.api_key = os.getenv(\"OPENAI_API_KEY\")"
   ]
  },
  {
   "cell_type": "code",
   "execution_count": 16,
   "metadata": {},
   "outputs": [],
   "source": [
    "_TRAINING_SAMPLE_PROMPT_TEMPLATE = \"\"\"\n",
    "Sample input:\n",
    "```{x}```\n",
    "\n",
    "Sample target: {y}\n",
    "\"\"\"\n",
    "_TEST_SAMPLE_PROMPT_TEMPLATE = \"\"\"\n",
    "Input:\n",
    "```{x}```\n",
    "\n",
    "Target: \n",
    "\"\"\"\n",
    "\n",
    "class GPTClassifier:\n",
    "    def __init__(self, model=\"gpt-3.5-turbo\", system_prompt=\"You are text classifier.\"):\n",
    "        self.model = model\n",
    "        self.system_prompt = system_prompt\n",
    "\n",
    "    def fit(self, X, y):\n",
    "        prompts = []\n",
    "        for xt, yt in zip(X, y):\n",
    "            prompts.append(\n",
    "                _TRAINING_SAMPLE_PROMPT_TEMPLATE.format(x=xt, y=yt)\n",
    "            )\n",
    "        self.prompt_ = \"\\n\".join(prompts)\n",
    "        return self\n",
    "\n",
    "    def _predict_single(self, x):\n",
    "        prompt = self.prompt_ + _TEST_SAMPLE_PROMPT_TEMPLATE.format(x=x)\n",
    "\n",
    "        response = openai.ChatCompletion.create(\n",
    "            model=self.model,\n",
    "            messages=[\n",
    "                {\"role\": \"system\", \"content\": self.system_prompt},\n",
    "                {\"role\": \"user\", \"content\": prompt}\n",
    "            ],\n",
    "            max_tokens=64,\n",
    "            temperature=0,\n",
    "        )\n",
    "\n",
    "        return response[\"choices\"][0][\"message\"][\"content\"]\n",
    "    \n",
    "    def predict(self, X):\n",
    "        return [self._predict_single(xt) for xt in X]"
   ]
  },
  {
   "cell_type": "code",
   "execution_count": 41,
   "metadata": {},
   "outputs": [],
   "source": [
    "train = pd.concat([\n",
    "    df.query('impact_type == \"Risk\"').sample(5, random_state=42),\n",
    "    df.query('impact_type == \"Opportunity\"').sample(5, random_state=42)\n",
    "]).sample(frac=1, replace=False)\n",
    "\n",
    "test = pd.concat([\n",
    "    df.query('impact_type == \"Risk\"').sample(10, random_state=1),\n",
    "    df.query('impact_type == \"Opportunity\"').sample(40, random_state=1)\n",
    "]).sample(frac=1, replace=False)"
   ]
  },
  {
   "cell_type": "code",
   "execution_count": 43,
   "metadata": {},
   "outputs": [],
   "source": [
    "X_train, y_train = train['news_content'].values, train['impact_type'].values\n",
    "X_test, y_test = test['news_content'].values, test['impact_type'].values"
   ]
  },
  {
   "cell_type": "code",
   "execution_count": 47,
   "metadata": {},
   "outputs": [],
   "source": [
    "clf = GPTClassifier()\n",
    "clf.fit(X_train, y_train)\n",
    "y_pred = clf.predict(X_test)"
   ]
  },
  {
   "cell_type": "code",
   "execution_count": 48,
   "metadata": {},
   "outputs": [
    {
     "name": "stdout",
     "output_type": "stream",
     "text": [
      "              precision    recall  f1-score   support\n",
      "\n",
      "           0       0.88      0.90      0.89        40\n",
      "           1       0.56      0.50      0.53        10\n",
      "\n",
      "    accuracy                           0.82        50\n",
      "   macro avg       0.72      0.70      0.71        50\n",
      "weighted avg       0.81      0.82      0.82        50\n",
      "\n"
     ]
    }
   ],
   "source": [
    "from sklearn.metrics import classification_report\n",
    "\n",
    "print(classification_report(\n",
    "    pd.Series(y_test).map({'Opportunity': 0, 'Risk': 1}),\n",
    "    pd.Series(y_pred).map({'Opportunity': 0, 'Risk': 1}),\n",
    "))"
   ]
  },
  {
   "cell_type": "markdown",
   "metadata": {},
   "source": [
    "# SBERT"
   ]
  },
  {
   "cell_type": "code",
   "execution_count": 83,
   "metadata": {},
   "outputs": [],
   "source": [
    "from sentence_transformers import SentenceTransformer\n",
    "\n",
    "model = SentenceTransformer('sentence-transformers/sentence-t5-base')"
   ]
  },
  {
   "cell_type": "code",
   "execution_count": 84,
   "metadata": {},
   "outputs": [],
   "source": [
    "content_embeddings = model.encode(df['news_content'].values)"
   ]
  },
  {
   "cell_type": "code",
   "execution_count": 85,
   "metadata": {},
   "outputs": [],
   "source": [
    "df_en = pd.read_csv('fr_en.csv')"
   ]
  },
  {
   "cell_type": "code",
   "execution_count": 86,
   "metadata": {},
   "outputs": [],
   "source": [
    "fr_embeddings = model.encode(df_en['news_content'].values)"
   ]
  },
  {
   "cell_type": "code",
   "execution_count": 127,
   "metadata": {},
   "outputs": [],
   "source": [
    "from sklearn.ensemble import RandomForestClassifier\n",
    "from sklearn.linear_model import LogisticRegression\n",
    "from sklearn.metrics import f1_score\n",
    "from sklearn.model_selection import KFold \n",
    "\n",
    "X = content_embeddings\n",
    "y = df['impact_type'].map({'Opportunity': 0, 'Risk': 1}).values\n",
    "X_fr = fr_embeddings\n",
    "y_fr = df_en['impact_type'].map({'Opportunity': 0, 'Risk': 1}).values\n",
    "\n",
    "kfold = KFold(shuffle=True, random_state=42)\n",
    "f1s = []\n",
    "for i, (train_index, test_index) in enumerate(kfold.split(X)):\n",
    "    clf = LogisticRegression(C=15, class_weight={1: 5})\n",
    "    # clf.fit(\n",
    "    #     np.concatenate([X[train_index], X_fr]),\n",
    "    #     np.concatenate([y[train_index], y_fr])\n",
    "    # )\n",
    "    clf.fit(X[train_index], y[train_index])\n",
    "    y_pred = clf.predict(X[test_index])\n",
    "    f1s.append(f1_score(y[test_index], y_pred))\n",
    "f1s = np.array(f1s)"
   ]
  },
  {
   "cell_type": "code",
   "execution_count": 128,
   "metadata": {},
   "outputs": [
    {
     "name": "stdout",
     "output_type": "stream",
     "text": [
      "78.95% (6.54%)\n"
     ]
    }
   ],
   "source": [
    "print(f\"{f1s.mean():.2%} ({f1s.std():.2%})\")"
   ]
  }
 ],
 "metadata": {
  "kernelspec": {
   "display_name": "base",
   "language": "python",
   "name": "python3"
  },
  "language_info": {
   "codemirror_mode": {
    "name": "ipython",
    "version": 3
   },
   "file_extension": ".py",
   "mimetype": "text/x-python",
   "name": "python",
   "nbconvert_exporter": "python",
   "pygments_lexer": "ipython3",
   "version": "3.10.6"
  },
  "orig_nbformat": 4
 },
 "nbformat": 4,
 "nbformat_minor": 2
}
